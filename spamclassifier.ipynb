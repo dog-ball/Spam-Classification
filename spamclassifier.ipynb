{
 "cells": [
  {
   "cell_type": "markdown",
   "metadata": {},
   "source": [
    "# Spam Classifier\n",
    "## Assignment Preamble\n",
    "Please ensure you carefully read all of the details and instructions on the assignment page, this section, and the rest of the notebook. If anything is unclear at any time please post on the forum or ask a tutor well in advance of the assignment deadline.\n",
    "\n",
    "In addition to all of the instructions in the body of the assignment below, you must also follow the following technical instructions for all assignments in this unit. *Failure to do so may result in a grade of zero.*\n",
    "* [At the bottom of the page](#Submission-Test) is some code which checks you meet the submission requirements. You **must** ensure that this runs correctly before submission.\n",
    "* Do not modify or delete any of the cells that are marked as test cells, even if they appear to be empty.\n",
    "* Do not duplicate any cells in the notebook – this can break the marking script. Instead, insert a new cell (e.g. from the menu) and copy across any contents as necessary.\n",
    "\n",
    "Remember to save and backup your work regularly, and double-check you are submitting the correct version.\n",
    "\n",
    "This notebook is the primary reference for your submission. You may write code in separate `.py` files but it must be clearly imported into the notebook so that it runs without needing to reference those files, and you must explain clearly what functionality is contained in those files (through comments, markdown cells, etc).\n",
    "\n",
    "As always, **the work you submit for this assignment must be entirely your own.** Do not copy or work with other students. Do not copy answers that you find online. These assignments are designed to help improve your understanding first and foremost – the process of doing the assignment is part of *learning*. They are also used to assess your ability, and so you must uphold academic integrity. Submitting plagiarised work risks your entire place on your degree.\n",
    "\n",
    "**The pass mark for this assignment is 40%.** We expect that students, on average, will be able to produce a submission which gets a mark between 50-70% within the normal workload allocation for the unit, but this will vary depending on individual backgrounds. Please ask for help if you are struggling.\n",
    "\n",
    "## Getting Started\n",
    "Spam refers to unwanted email, often in the form of advertisements. In the literature, an email that is **not** spam is called *ham*. Most email providers offer automatic spam filtering, where spam emails will be moved to a separate inbox based on their contents. Of course this requires being able to scan an email and determine whether it is spam or ham, a classification problem. This is the subject of this assignment.\n",
    "\n",
    "This assignment has two parts. Each part is worth 50% of the overall grade for this assignment.\n",
    "\n",
    "For part one you will write a supervised learning based classifier to determine whether a given email is spam or ham. You must write and submit the code in this notebook. The training data is provided for you. You may use any classification method. Marks will be awarded primarily based on the accuracy of your classifier on unseen test data, but there are also marks for estimating how accurate you think your classifier will be.\n",
    "\n",
    "In part two you will produce a short video explaining your implementation, any decisions or extensions you made, and what parameter values you used. This part is explained in more detail on the assignment page. The video file must be submitted with your assignment.\n",
    "\n",
    "### Choice of Algorithm\n",
    "While the classification method is a completely free choice, the assignment folder includes [a separate notebook file](data/naivebayes.ipynb) which can help you implement a Naïve Bayes solution. If you do use this notebook, you are still responsible for porting your code into *this* notebook for submission. A good implementation should give a high  enough accuracy to get a good grade on this section (50-70%).\n",
    "\n",
    "You could also consider a k-nearest neighbour algorithm, but this may be less accurate. Logistic regression is another option that you may wish to consider.\n",
    "\n",
    "If you are looking to go beyond the scope of the unit, you might be interested in building something more advanced, like an artificial neural network. This is possible just using `numpy`, but will require significant self-directed learning. *Extensions like this are left unguided and are not factored into the unit workload estimates.*\n",
    "\n",
    "**Note:** you may use helper functions in libraries like `numpy` or `scipy`, but you **must not** import code which builds entire models for you. This includes but is not limited to use of libraries like `scikit-learn`, `tensorflow`, or `pytorch` – there will be plenty of opportunities for these libraries in later units. The point of this assignment is to understand code the actual algorithm yourself. ***If you are in any doubt about any particular library or function please ask a tutor.*** Submissions which ignore this will receive penalties or even zero marks.\n",
    "\n",
    "If you choose to implement more than one algorithm, please feel free to include your code and talk about it in part two (your video presentation), but only the code in this notebook will be used in the automated testing.\n",
    "\n",
    "## Training Data\n",
    "The training data is described below and has 1000 rows. There is also a 500 row set of test data. These are functionally identical to the training data, they are just in a separate csv file to encourage you to split out your training and test data. You should consider how to best make use of all available data without overfitting, and to help produce an unbiased estimate for your classifier's accuracy.\n",
    "\n",
    "The cell below loads the training data into a variable called `training_spam`."
   ]
  },
  {
   "cell_type": "code",
   "execution_count": 2,
   "metadata": {},
   "outputs": [
    {
     "name": "stdout",
     "output_type": "stream",
     "text": [
      "Shape of the spam training data set: (1000, 55)\n",
      "[[1 0 0 ... 0 0 0]\n",
      " [0 0 1 ... 1 0 0]\n",
      " [0 0 0 ... 1 0 0]\n",
      " ...\n",
      " [0 0 0 ... 0 0 1]\n",
      " [1 1 1 ... 1 1 0]\n",
      " [1 0 0 ... 1 1 1]]\n"
     ]
    }
   ],
   "source": [
    "import numpy as np\n",
    "\n",
    "training_spam = np.loadtxt(open(\"data/training_spam.csv\"), delimiter=\",\").astype(np.int)\n",
    "print(\"Shape of the spam training data set:\", training_spam.shape)\n",
    "print(training_spam)"
   ]
  },
  {
   "cell_type": "markdown",
   "metadata": {},
   "source": [
    "Your training set consists of 1000 rows and 55 columns. Each row corresponds to one email message. The first column is the _response_ variable and describes whether a message is spam `1` or ham `0`. The remaining 54 columns are _features_ that you will use to build a classifier. These features correspond to 54 different keywords (such as \"money\", \"free\", and \"receive\") and special characters (such as \":\", \"!\", and \"$\"). A feature has the value `1` if the keyword appears in the message and `0` otherwise.\n",
    "\n",
    "As mentioned there is also a 500 row set of *test data*. It contains the same 55 columns."
   ]
  },
  {
   "cell_type": "code",
   "execution_count": 3,
   "metadata": {},
   "outputs": [
    {
     "name": "stdout",
     "output_type": "stream",
     "text": [
      "Shape of the spam testing data set: (500, 55)\n",
      "[[1 0 0 ... 1 1 1]\n",
      " [1 1 0 ... 1 1 1]\n",
      " [0 0 0 ... 0 0 0]\n",
      " ...\n",
      " [0 0 0 ... 0 0 0]\n",
      " [0 0 0 ... 1 0 0]\n",
      " [0 0 0 ... 1 0 0]]\n"
     ]
    }
   ],
   "source": [
    "testing_spam = np.loadtxt(open(\"data/testing_spam.csv\"), delimiter=\",\").astype(np.int)\n",
    "print(\"Shape of the spam testing data set:\", testing_spam.shape)\n",
    "print(testing_spam)"
   ]
  },
  {
   "cell_type": "markdown",
   "metadata": {},
   "source": [
    "## Part One\n",
    "Write all of the code for your classifier below this cell. There is some very rough skeleton code in the cell directly below. You may insert more cells below this if you wish, but you must not duplicate any cells as this can break the grading script.\n",
    "\n",
    "### Submission Requirements\n",
    "Your code must provide a variable with the name `classifier`. This object must have a method called `predict` which takes input data and returns class predictions. The input will be a single $n \\times 54$ numpy array, your classifier should return a numpy array of length $n$ with classifications. There is a demo in the cell below, and a test you can run before submitting to check your code is working correctly.\n",
    "\n",
    "Your code must run on our test machine in under 30 seconds. If you wish to train a more complicated model (e.g. neural network) which will take longer, you are welcome to save the model's weights as a file and then load these in the cell below so we can test it. You must include the code which computes the original weights, but this must not run when we run the notebook – comment out the code which actually executes the routine and make sure it is clear what we need to change to get it to run. Remember that we will be testing your final classifier on additional hidden data."
   ]
  },
  {
   "cell_type": "code",
   "execution_count": 4,
   "metadata": {},
   "outputs": [],
   "source": [
    "import pandas as pd\n",
    "import pickle\n",
    "\n",
    "\"\"\"To train the model from scratch see comment in the create_classifier() function.\"\"\"\n",
    "\n",
    "\n",
    "def get_kernel_matrix(x1, x2, sigma):\n",
    "    \"\"\"Function for the gram matrix used in the Kernel trick\"\"\"\n",
    "    num_samples_x1 = x1.shape[0]\n",
    "    num_samples_x2 = x2.shape[0]\n",
    "    kernel_matrix = np.zeros([num_samples_x1, num_samples_x2])\n",
    "    for nrow in range(num_samples_x1):\n",
    "        for ncol in range(num_samples_x2):\n",
    "            kernel_matrix[nrow][ncol] = np.exp(- sigma*(np.dot(x1[nrow]-x2[ncol], x1[nrow]-x2[ncol])))\n",
    "    return kernel_matrix\n",
    "\n",
    "\n",
    "class SVMSpamClassifier:\n",
    "    \"\"\"Support Vector Machine Classifier for spam email\"\"\"\n",
    "    def __init__(self, sigma, C, train=False):\n",
    "        self.sigma = sigma\n",
    "        self.C = C\n",
    "        self.save_weights = train\n",
    "        # Load presaved weights if train set to False\n",
    "        if train is False:\n",
    "            self.support_x, self.support_y, self.support_lamb, self.param_b = self.load_data()\n",
    "        else:\n",
    "            self.support_ind = None\n",
    "            self.support_x = None\n",
    "            self.support_y = None\n",
    "            self.support_lamb = None\n",
    "            self.lamb = None\n",
    "            self.param_b = None\n",
    "            self.count = 0\n",
    "            self.objective_func = -np.Inf\n",
    "        \n",
    "    \n",
    "    def predict(self, x):\n",
    "        \"\"\"Function for classifying unseen data\"\"\"\n",
    "        K = get_kernel_matrix(self.support_x, x, self.sigma)\n",
    "        pred_y = []\n",
    "        for i in range(x.shape[0]):\n",
    "            z = np.dot(self.support_lamb * self.support_y, K[:,i]) +  self.param_b  \n",
    "            if z < 0:\n",
    "                z = -1\n",
    "            else:\n",
    "                z = 1\n",
    "            pred_y.append(z)\n",
    "        if self.train is True:\n",
    "            return np.array(pred_y)\n",
    "        else:\n",
    "            return np.array([x if x == 1 else 0 for x in pred_y])\n",
    "        \n",
    "        \n",
    "    def train(self, x, y, max_iter=1E6, epsilon=1E-4):\n",
    "        \"\"\"Function for training the SVM\"\"\"\n",
    "        num_samples = x.shape[0]\n",
    "        \"\"\"Initialization and solve dual problem with SMO\"\"\"\n",
    "        K = get_kernel_matrix(x, x, self.sigma)\n",
    "        C = self.C\n",
    "        self.lamb = np.zeros(num_samples)\n",
    "        self.param_b = np.random.normal()\n",
    "        #SMO algorithm\n",
    "        while True:\n",
    "            # Randomly select a pair (a, b) to optimize\n",
    "            [a, b] = np.random.choice(num_samples, 2, replace=False)\n",
    "            if K[a, a] + K[b, b] - 2 * K[a,b] == 0:\n",
    "                continue\n",
    "                \n",
    "            lamb_a_old, lamb_b_old = self.lamb[a], self.lamb[b]\n",
    "            Ea =  np.dot(self.lamb * y, K[:,a]) + self.param_b - y[a]\n",
    "            Eb =  np.dot(self.lamb * y, K[:,b]) + self.param_b - y[b]\n",
    "            lamb_a_new_unclip = lamb_a_old + y[a] *(Eb - Ea)/(K[a,a] + K[b,b] - 2 * K[a, b])\n",
    "            xi = - lamb_a_old * y[a] - lamb_b_old * y[b]\n",
    "            \n",
    "            if y[a] != y[b]:\n",
    "                L = max(xi * y[b], 0)\n",
    "                H = min(C + xi * y[b], C)\n",
    "            else:\n",
    "                L = max(0, -C - xi * y[b])\n",
    "                H = min(C, -xi * y[b])\n",
    "                \n",
    "            if lamb_a_new_unclip < L:\n",
    "                lamb_a_new = L\n",
    "            elif lamb_a_new_unclip > H:\n",
    "                lamb_a_new = H\n",
    "            else:\n",
    "                lamb_a_new = lamb_a_new_unclip\n",
    "                \n",
    "            lamb_b_new = lamb_b_old + (lamb_a_old - lamb_a_new) * y[a] * y[b]\n",
    "            if lamb_a_new > 0 and lamb_a_new < C:\n",
    "                self.param_b =  self.param_b - Ea + (lamb_a_old - lamb_a_new) * y[a] * K[a,a] + (lamb_b_old - lamb_b_new) * y[b] * K[b,a]\n",
    "            elif lamb_b_new > 0 and lamb_b_new < C:\n",
    "                self.param_b = self.param_b - Eb + (lamb_a_old - lamb_a_new) * y[a] * K[a,b] + (lamb_b_old - lamb_b_new) * y[b] * K[b,b]\n",
    "            self.lamb[a], self.lamb[b] = lamb_a_new, lamb_b_new\n",
    "            \n",
    "            self.count += 1\n",
    "            local_count += 1\n",
    "\n",
    "            # Determine whether to stop training\n",
    "            if local_count >= max_iter or self.count % 10000 ==0:\n",
    "                self.support_ind =  self.lamb > 0\n",
    "                self.support_x = x[self.support_ind]\n",
    "                self.support_y = y[self.support_ind]\n",
    "                self.support_lamb = self.lamb[self.support_ind]\t\n",
    "                support_K = K[self.support_ind, :][:, self.support_ind]\n",
    "                new_objective_func = np.sum(self.support_lamb) - 0.5 * np.dot(np.matmul((self.support_lamb * self.support_y).T, support_K).T, self.support_lamb * self.support_y) \n",
    "                \n",
    "                # If the change of dual objective function is less than epsilon stop training\n",
    "                if abs(new_objective_func - self.objective_func) <= epsilon:\n",
    "                    break\n",
    "                else:\n",
    "                    self.objective_func = new_objective_func\n",
    "                if local_count >= max_iter:\n",
    "                    break\n",
    "                    \n",
    "        # If True will save weights to be used again            \n",
    "        if self.save_weights:\n",
    "            self.save_data()\n",
    "    \n",
    "\n",
    "    def save_data(self):\n",
    "        \"\"\"Function for saving data to be used later\"\"\"\n",
    "        with open('support_x.pkl', 'wb') as f:\n",
    "            pickle.dump(self.support_x, f)  \n",
    "        with open('support_y.pkl', 'wb') as f:\n",
    "            pickle.dump(self.support_y, f)\n",
    "        with open('support_lamb.pkl', 'wb') as f:\n",
    "            pickle.dump(self.support_lamb, f)\n",
    "        with open('param_b.pkl', 'wb') as f:\n",
    "            pickle.dump(self.param_b, f)\n",
    "            \n",
    "            \n",
    "    def load_data(self):\n",
    "        \"\"\"Function for loading data when initialising classifier\"\"\"\n",
    "        with open('support_x.pkl', 'rb') as f:\n",
    "            support_x = pickle.load(f)\n",
    "        with open('support_y.pkl', 'rb') as f:\n",
    "            support_y = pickle.load(f)\n",
    "        with open('support_lamb.pkl', 'rb') as f:\n",
    "            support_lamb = pickle.load(f)\n",
    "        with open('param_b.pkl', 'rb') as f:\n",
    "            param_b = pickle.load(f)\n",
    "        return support_x, support_y, support_lamb, param_b \n",
    "    \n",
    "    \n",
    "def create_classifier():\n",
    "    \"\"\"To train the model from scratch set train to True\"\"\"\n",
    "    classifier = SVMSpamClassifier(0.01, 100, train=False)\n",
    "    return classifier\n",
    "\n",
    "classifier = create_classifier()"
   ]
  },
  {
   "cell_type": "markdown",
   "metadata": {},
   "source": [
    "### Accuracy Estimate\n",
    "In the cell below there is a function called `my_accuracy_estimate()` which returns `0.5`. Before you submit the assignment, write your best guess for the accuracy of your classifier into this function, as a percentage between `0` and `1`. So if you think you will get 80% of inputs correct, return the value `0.8`. This will form a small part of the marking criteria for the assignment, to encourage you to test your own code."
   ]
  },
  {
   "cell_type": "code",
   "execution_count": 5,
   "metadata": {},
   "outputs": [],
   "source": [
    "def my_accuracy_estimate():\n",
    "    return 0.92"
   ]
  },
  {
   "cell_type": "markdown",
   "metadata": {},
   "source": [
    "Write all of the code for your classifier above this cell.\n",
    "\n",
    "### Testing Details\n",
    "Your classifier will be tested against some hidden data from the same source as the original. The accuracy (percentage of classifications correct) will be calculated, then benchmarked against common methods. At the very high end of the grading scale, your accuracy will also be compared to the best submissions from other students (in your own cohort and others!). Your estimate from the cell above will also factor in, and you will be rewarded for being close to your actual accuracy (overestimates and underestimates will be treated the same).\n",
    "\n",
    "#### Test Cell\n",
    "The following code will run your classifier against the provided test data. To enable it, set the constant `SKIP_TESTS` to `False`.\n",
    "\n",
    "The original skeleton code above classifies every row as ham, but once you have written your own classifier you can run this cell again to test it. So long as your code sets up a variable called `classifier` with a method called `predict`, the test code will be able to run. \n",
    "\n",
    "Of course you may wish to test your classifier in additional ways, but you *must* ensure this version still runs before submitting.\n",
    "\n",
    "**IMPORTANT**: you must set `SKIP_TESTS` back to `True` before submitting this file!"
   ]
  },
  {
   "cell_type": "code",
   "execution_count": 9,
   "metadata": {},
   "outputs": [
    {
     "name": "stdout",
     "output_type": "stream",
     "text": [
      "Accuracy on test data is: 0.922\n"
     ]
    }
   ],
   "source": [
    "SKIP_TESTS = False\n",
    "\n",
    "if not SKIP_TESTS:\n",
    "    testing_spam = np.loadtxt(open(\"data/testing_spam.csv\"), delimiter=\",\").astype(np.int)\n",
    "    test_data = testing_spam[:, 1:]\n",
    "    test_labels = testing_spam[:, 0]\n",
    "\n",
    "    predictions = classifier.predict(test_data)\n",
    "    accuracy = np.count_nonzero(predictions == test_labels)/test_labels.shape[0]\n",
    "    print(f\"Accuracy on test data is: {accuracy}\")"
   ]
  },
  {
   "cell_type": "code",
   "execution_count": 7,
   "metadata": {
    "deletable": false,
    "editable": false,
    "nbgrader": {
     "cell_type": "code",
     "checksum": "59d6bceb43ad854b001cc67cf0fc07f9",
     "grade": false,
     "grade_id": "cell-ce83a675162843d3",
     "locked": true,
     "schema_version": 3,
     "solution": false,
     "task": false
    }
   },
   "outputs": [
    {
     "name": "stdout",
     "output_type": "stream",
     "text": [
      "INFO: Make sure you follow the instructions on the assignment page to submit your video.\n",
      "Failing to include this could result in an overall grade of zero for both parts.\n",
      "\n",
      "All checks passed. When you are ready to submit, upload the notebook and readme file to the\n",
      "assignment page, without changing any filenames.\n",
      "\n",
      "If you need to submit multiple files, you can archive them in a .zip file. (No other format.)\n"
     ]
    }
   ],
   "source": [
    "import sys\n",
    "import pathlib\n",
    "\n",
    "fail = False;\n",
    "\n",
    "if not SKIP_TESTS:\n",
    "    fail = True;\n",
    "    print(\"You must set the SKIP_TESTS constant to True in the cell above.\")\n",
    "    \n",
    "p3 = pathlib.Path('./spamclassifier.ipynb')\n",
    "if not p3.is_file():\n",
    "    fail = True\n",
    "    print(\"This notebook file must be named spamclassifier.ipynb\")\n",
    "    \n",
    "if \"create_classifier\" not in dir():\n",
    "    fail = True;\n",
    "    print(\"You must include a function called create_classifier.\")\n",
    "\n",
    "if \"my_accuracy_estimate\" not in dir():\n",
    "    fail = True;\n",
    "    print(\"You must include a function called my_accuracy_estimate.\")\n",
    "else:\n",
    "    if my_accuracy_estimate() == 0.5:\n",
    "        print(\"Warning:\")\n",
    "        print(\"You do not seem to have provided an accuracy estimate, it is set to 0.5.\")\n",
    "        print(\"This is the actually the worst possible accuracy – if your classifier\")\n",
    "        print(\"got 0.1 then it could invert its results to get 0.9!\")\n",
    "    \n",
    "print(\"INFO: Make sure you follow the instructions on the assignment page to submit your video.\")\n",
    "print(\"Failing to include this could result in an overall grade of zero for both parts.\")\n",
    "print()\n",
    "\n",
    "if fail:\n",
    "    sys.stderr.write(\"Your submission is not ready! Please read and follow the instructions above.\")\n",
    "else:\n",
    "    print(\"All checks passed. When you are ready to submit, upload the notebook and readme file to the\")\n",
    "    print(\"assignment page, without changing any filenames.\")\n",
    "    print()\n",
    "    print(\"If you need to submit multiple files, you can archive them in a .zip file. (No other format.)\")"
   ]
  },
  {
   "cell_type": "code",
   "execution_count": 8,
   "metadata": {
    "deletable": false,
    "editable": false,
    "nbgrader": {
     "cell_type": "code",
     "checksum": "badbc892f539e03ad0acdb369f7e0993",
     "grade": true,
     "grade_id": "cell-b64bc40ab6485b50",
     "locked": true,
     "points": 100,
     "schema_version": 3,
     "solution": false,
     "task": false
    }
   },
   "outputs": [],
   "source": [
    "# This is a test cell. Please do not modify or delete."
   ]
  }
 ],
 "metadata": {
  "kernelspec": {
   "display_name": "Python 3",
   "language": "python",
   "name": "python3"
  },
  "language_info": {
   "codemirror_mode": {
    "name": "ipython",
    "version": 3
   },
   "file_extension": ".py",
   "mimetype": "text/x-python",
   "name": "python",
   "nbconvert_exporter": "python",
   "pygments_lexer": "ipython3",
   "version": "3.8.3"
  }
 },
 "nbformat": 4,
 "nbformat_minor": 4
}
